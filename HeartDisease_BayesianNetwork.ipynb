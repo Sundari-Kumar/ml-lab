{
 "cells": [
  {
   "cell_type": "code",
   "execution_count": 21,
   "id": "6e3a5719-6892-4905-9c58-adaca9f7aed1",
   "metadata": {},
   "outputs": [
    {
     "name": "stdout",
     "output_type": "stream",
     "text": [
      "Defaulting to user installation because normal site-packages is not writeable\n",
      "Requirement already satisfied: pgmpy in c:\\users\\jalee\\appdata\\roaming\\python\\python313\\site-packages (1.0.0)\n",
      "Requirement already satisfied: pandas in c:\\users\\jalee\\appdata\\roaming\\python\\python313\\site-packages (2.2.3)\n",
      "Requirement already satisfied: numpy in c:\\users\\jalee\\appdata\\roaming\\python\\python313\\site-packages (2.2.3)\n",
      "Requirement already satisfied: scikit-learn in c:\\users\\jalee\\appdata\\roaming\\python\\python313\\site-packages (1.6.1)\n",
      "Requirement already satisfied: networkx in c:\\users\\jalee\\appdata\\roaming\\python\\python313\\site-packages (from pgmpy) (3.4.2)\n",
      "Requirement already satisfied: scipy in c:\\users\\jalee\\appdata\\roaming\\python\\python313\\site-packages (from pgmpy) (1.15.3)\n",
      "Requirement already satisfied: torch in c:\\users\\jalee\\appdata\\roaming\\python\\python313\\site-packages (from pgmpy) (2.7.0)\n",
      "Requirement already satisfied: statsmodels in c:\\users\\jalee\\appdata\\roaming\\python\\python313\\site-packages (from pgmpy) (0.14.4)\n",
      "Requirement already satisfied: tqdm in c:\\users\\jalee\\appdata\\roaming\\python\\python313\\site-packages (from pgmpy) (4.67.1)\n",
      "Requirement already satisfied: joblib in c:\\users\\jalee\\appdata\\roaming\\python\\python313\\site-packages (from pgmpy) (1.5.0)\n",
      "Requirement already satisfied: opt-einsum in c:\\users\\jalee\\appdata\\roaming\\python\\python313\\site-packages (from pgmpy) (3.4.0)\n",
      "Requirement already satisfied: pyro-ppl in c:\\users\\jalee\\appdata\\roaming\\python\\python313\\site-packages (from pgmpy) (1.9.1)\n",
      "Requirement already satisfied: python-dateutil>=2.8.2 in c:\\users\\jalee\\appdata\\roaming\\python\\python313\\site-packages (from pandas) (2.9.0.post0)\n",
      "Requirement already satisfied: pytz>=2020.1 in c:\\users\\jalee\\appdata\\roaming\\python\\python313\\site-packages (from pandas) (2025.1)\n",
      "Requirement already satisfied: tzdata>=2022.7 in c:\\users\\jalee\\appdata\\roaming\\python\\python313\\site-packages (from pandas) (2025.1)\n",
      "Requirement already satisfied: threadpoolctl>=3.1.0 in c:\\users\\jalee\\appdata\\roaming\\python\\python313\\site-packages (from scikit-learn) (3.6.0)\n",
      "Requirement already satisfied: six>=1.5 in c:\\users\\jalee\\appdata\\roaming\\python\\python313\\site-packages (from python-dateutil>=2.8.2->pandas) (1.17.0)\n",
      "Requirement already satisfied: pyro-api>=0.1.1 in c:\\users\\jalee\\appdata\\roaming\\python\\python313\\site-packages (from pyro-ppl->pgmpy) (0.1.2)\n",
      "Requirement already satisfied: filelock in c:\\users\\jalee\\appdata\\roaming\\python\\python313\\site-packages (from torch->pgmpy) (3.18.0)\n",
      "Requirement already satisfied: typing-extensions>=4.10.0 in c:\\users\\jalee\\appdata\\roaming\\python\\python313\\site-packages (from torch->pgmpy) (4.12.2)\n",
      "Requirement already satisfied: sympy>=1.13.3 in c:\\users\\jalee\\appdata\\roaming\\python\\python313\\site-packages (from torch->pgmpy) (1.14.0)\n",
      "Requirement already satisfied: jinja2 in c:\\users\\jalee\\appdata\\roaming\\python\\python313\\site-packages (from torch->pgmpy) (3.1.5)\n",
      "Requirement already satisfied: fsspec in c:\\users\\jalee\\appdata\\roaming\\python\\python313\\site-packages (from torch->pgmpy) (2025.5.1)\n",
      "Requirement already satisfied: setuptools in c:\\users\\jalee\\appdata\\roaming\\python\\python313\\site-packages (from torch->pgmpy) (80.7.1)\n",
      "Requirement already satisfied: colorama in c:\\users\\jalee\\appdata\\roaming\\python\\python313\\site-packages (from tqdm->pgmpy) (0.4.6)\n",
      "Requirement already satisfied: patsy>=0.5.6 in c:\\users\\jalee\\appdata\\roaming\\python\\python313\\site-packages (from statsmodels->pgmpy) (1.0.1)\n",
      "Requirement already satisfied: packaging>=21.3 in c:\\users\\jalee\\appdata\\roaming\\python\\python313\\site-packages (from statsmodels->pgmpy) (24.2)\n",
      "Requirement already satisfied: mpmath<1.4,>=1.1.0 in c:\\users\\jalee\\appdata\\roaming\\python\\python313\\site-packages (from sympy>=1.13.3->torch->pgmpy) (1.3.0)\n",
      "Requirement already satisfied: MarkupSafe>=2.0 in c:\\users\\jalee\\appdata\\roaming\\python\\python313\\site-packages (from jinja2->torch->pgmpy) (3.0.2)\n"
     ]
    },
    {
     "name": "stderr",
     "output_type": "stream",
     "text": [
      "\n",
      "[notice] A new release of pip is available: 24.3.1 -> 25.1.1\n",
      "[notice] To update, run: python.exe -m pip install --upgrade pip\n"
     ]
    }
   ],
   "source": [
    "!pip install pgmpy pandas numpy scikit-learn"
   ]
  },
  {
   "cell_type": "code",
   "execution_count": 4,
   "id": "1dba3197-b96a-41c1-a2d2-eb7dd4e0280c",
   "metadata": {},
   "outputs": [
    {
     "ename": "ModuleNotFoundError",
     "evalue": "No module named 'pgmpy'",
     "output_type": "error",
     "traceback": [
      "\u001b[0;31m---------------------------------------------------------------------------\u001b[0m",
      "\u001b[0;31mModuleNotFoundError\u001b[0m                       Traceback (most recent call last)",
      "\u001b[0;32m<ipython-input-4-d4c8e4d4b8e4>\u001b[0m in \u001b[0;36m<module>\u001b[0;34m\u001b[0m\n\u001b[1;32m      1\u001b[0m \u001b[0;32mimport\u001b[0m \u001b[0mpandas\u001b[0m \u001b[0;32mas\u001b[0m \u001b[0mpd\u001b[0m\u001b[0;34m\u001b[0m\u001b[0;34m\u001b[0m\u001b[0m\n\u001b[0;32m----> 2\u001b[0;31m \u001b[0;32mfrom\u001b[0m \u001b[0mpgmpy\u001b[0m\u001b[0;34m.\u001b[0m\u001b[0mmodels\u001b[0m \u001b[0;32mimport\u001b[0m \u001b[0mBayesianModel\u001b[0m\u001b[0;34m\u001b[0m\u001b[0;34m\u001b[0m\u001b[0m\n\u001b[0m\u001b[1;32m      3\u001b[0m \u001b[0;32mfrom\u001b[0m \u001b[0mpgmpy\u001b[0m\u001b[0;34m.\u001b[0m\u001b[0mestimators\u001b[0m \u001b[0;32mimport\u001b[0m \u001b[0mBayesianEstimator\u001b[0m\u001b[0;34m,\u001b[0m \u001b[0mHillClimbSearch\u001b[0m\u001b[0;34m\u001b[0m\u001b[0;34m\u001b[0m\u001b[0m\n\u001b[1;32m      4\u001b[0m \u001b[0;32mfrom\u001b[0m \u001b[0mpgmpy\u001b[0m\u001b[0;34m.\u001b[0m\u001b[0minference\u001b[0m \u001b[0;32mimport\u001b[0m \u001b[0mVariableElimination\u001b[0m\u001b[0;34m\u001b[0m\u001b[0;34m\u001b[0m\u001b[0m\n\u001b[1;32m      5\u001b[0m \u001b[0;32mfrom\u001b[0m \u001b[0msklearn\u001b[0m\u001b[0;34m.\u001b[0m\u001b[0mpreprocessing\u001b[0m \u001b[0;32mimport\u001b[0m \u001b[0mLabelEncoder\u001b[0m\u001b[0;34m\u001b[0m\u001b[0;34m\u001b[0m\u001b[0m\n",
      "\u001b[0;31mModuleNotFoundError\u001b[0m: No module named 'pgmpy'"
     ]
    }
   ],
   "source": [
    "\n",
    "import pandas as pd\n",
    "from pgmpy.models import BayesianModel\n",
    "from pgmpy.estimators import BayesianEstimator, HillClimbSearch\n",
    "from pgmpy.inference import VariableElimination\n",
    "from sklearn.preprocessing import LabelEncoder\n",
    "\n",
    "# Load dataset\n",
    "df = pd.read_csv(\"heart.csv\")\n",
    "\n",
    "# Encode categorical columns\n",
    "le = LabelEncoder()\n",
    "for column in df.columns:\n",
    "    if df[column].dtype == 'object':\n",
    "        df[column] = le.fit_transform(df[column])\n",
    "\n",
    "# Discretize continuous values (important for Bayesian Networks)\n",
    "df['age'] = pd.cut(df['age'], bins=5, labels=False)\n",
    "df['chol'] = pd.cut(df['chol'], bins=5, labels=False)\n",
    "df['thalach'] = pd.cut(df['thalach'], bins=5, labels=False)\n",
    "df['trestbps'] = pd.cut(df['trestbps'], bins=5, labels=False)\n",
    "\n",
    "# Learn structure using Hill Climb Search with 'bicscore' score\n",
    "hc = HillClimbSearch(df)\n",
    "best_model = hc.estimate(scoring_method='bicscore')  # FIXED LINE\n",
    "\n",
    "# Print learned edges\n",
    "print(\"Learned Structure Edges:\")\n",
    "print(best_model.edges())\n",
    "\n",
    "# Define Bayesian Model\n",
    "model = BayesianModel(best_model.edges())\n",
    "\n",
    "# Train using Bayesian Estimator\n",
    "model.fit(df, estimator=BayesianEstimator, prior_type=\"BDeu\")\n",
    "\n",
    "# Perform inference\n",
    "infer = VariableElimination(model)\n",
    "\n",
    "# Define evidence0\n",
    "\n",
    "evidence = {\n",
    "    'age': 2,\n",
    "    'sex': 1,\n",
    "    'cp': 2,\n",
    "    'chol': 2,\n",
    "    'fbs': 0,\n",
    "    'restecg': 1,\n",
    "    'thalach': 2,\n",
    "    'exang': 1\n",
    "}\n",
    "\n",
    "# Filter only nodes present in the graph\n",
    "valid_nodes = set(model.nodes())\n",
    "filtered_evidence = {k: v for k, v in evidence.items() if k in valid_nodes}\n",
    "\n",
    "# Query for 'target'\n",
    "q = infer.query(variables=['target'], evidence=filtered_evidence)\n",
    "\n",
    "# Print prediction\n",
    "print(\"\\nPrediction for Heart Disease (target):\")\n",
    "print(q)\n",
    "\n"
   ]
  },
  {
   "cell_type": "code",
   "execution_count": null,
   "id": "c4034528-8b1e-48b1-9ef9-ae514469b7f5",
   "metadata": {},
   "outputs": [
    {
     "name": "stdout",
     "output_type": "stream",
     "text": [
      "Found existing installation: pgmpy 1.0.0\n",
      "Uninstalling pgmpy-1.0.0:\n",
      "  Would remove:\n",
      "    /home/student/.local/lib/python3.6/site-packages/pgmpy-1.0.0.dist-info/*\n",
      "    /home/student/.local/lib/python3.6/site-packages/pgmpy/*\n",
      "Proceed (Y/n)? "
     ]
    }
   ],
   "source": [
    "!pip uninstall pgmpy"
   ]
  },
  {
   "cell_type": "code",
   "execution_count": 1,
   "id": "eebca6d5",
   "metadata": {},
   "outputs": [
    {
     "name": "stdout",
     "output_type": "stream",
     "text": [
      "Found existing installation: pgmpy 1.0.0\n",
      "Uninstalling pgmpy-1.0.0:\n",
      "  Successfully uninstalled pgmpy-1.0.0\n"
     ]
    }
   ],
   "source": [
    "!pip uninstall -y pgmpy"
   ]
  },
  {
   "cell_type": "code",
   "execution_count": 2,
   "id": "e1fb2dfc",
   "metadata": {},
   "outputs": [
    {
     "name": "stdout",
     "output_type": "stream",
     "text": [
      "Defaulting to user installation because normal site-packages is not writeable\n",
      "Collecting pgmpy==0.1.18\n",
      "  Downloading pgmpy-0.1.18-py3-none-any.whl (1.9 MB)\n",
      "     |████████████████████████████████| 1.9 MB 26 kB/s            \n",
      "\u001b[?25hRequirement already satisfied: tqdm in /home/student/.local/lib/python3.6/site-packages (from pgmpy==0.1.18) (4.64.1)\n",
      "Requirement already satisfied: numpy in /home/student/.local/lib/python3.6/site-packages (from pgmpy==0.1.18) (1.19.5)\n",
      "Requirement already satisfied: pandas in /home/student/.local/lib/python3.6/site-packages (from pgmpy==0.1.18) (1.1.5)\n",
      "Collecting statsmodels\n",
      "  Using cached statsmodels-0.12.2-cp36-cp36m-manylinux1_x86_64.whl (9.5 MB)\n",
      "Requirement already satisfied: joblib in /home/student/.local/lib/python3.6/site-packages (from pgmpy==0.1.18) (1.1.1)\n",
      "Requirement already satisfied: networkx in /home/student/.local/lib/python3.6/site-packages (from pgmpy==0.1.18) (2.5.1)\n",
      "Requirement already satisfied: scikit-learn in /home/student/.local/lib/python3.6/site-packages (from pgmpy==0.1.18) (0.24.2)\n",
      "Requirement already satisfied: scipy in /home/student/.local/lib/python3.6/site-packages (from pgmpy==0.1.18) (1.5.4)\n",
      "Collecting torch\n",
      "\u001b[31mERROR: Exception:\n",
      "Traceback (most recent call last):\n",
      "  File \"/home/student/.local/lib/python3.6/site-packages/pip/_internal/cli/base_command.py\", line 164, in exc_logging_wrapper\n",
      "    status = run_func(*args)\n",
      "  File \"/home/student/.local/lib/python3.6/site-packages/pip/_internal/cli/req_command.py\", line 205, in wrapper\n",
      "    return func(self, options, args)\n",
      "  File \"/home/student/.local/lib/python3.6/site-packages/pip/_internal/commands/install.py\", line 339, in run\n",
      "    reqs, check_supported_wheels=not options.target_dir\n",
      "  File \"/home/student/.local/lib/python3.6/site-packages/pip/_internal/resolution/resolvelib/resolver.py\", line 93, in resolve\n",
      "    collected.requirements, max_rounds=try_to_avoid_resolution_too_deep\n",
      "  File \"/home/student/.local/lib/python3.6/site-packages/pip/_vendor/resolvelib/resolvers.py\", line 482, in resolve\n",
      "    state = resolution.resolve(requirements, max_rounds=max_rounds)\n",
      "  File \"/home/student/.local/lib/python3.6/site-packages/pip/_vendor/resolvelib/resolvers.py\", line 374, in resolve\n",
      "    failure_causes = self._attempt_to_pin_criterion(name)\n",
      "  File \"/home/student/.local/lib/python3.6/site-packages/pip/_vendor/resolvelib/resolvers.py\", line 214, in _attempt_to_pin_criterion\n",
      "    criteria = self._get_updated_criteria(candidate)\n",
      "  File \"/home/student/.local/lib/python3.6/site-packages/pip/_vendor/resolvelib/resolvers.py\", line 205, in _get_updated_criteria\n",
      "    self._add_to_criteria(criteria, requirement, parent=candidate)\n",
      "  File \"/home/student/.local/lib/python3.6/site-packages/pip/_vendor/resolvelib/resolvers.py\", line 173, in _add_to_criteria\n",
      "    if not criterion.candidates:\n",
      "  File \"/home/student/.local/lib/python3.6/site-packages/pip/_vendor/resolvelib/structs.py\", line 151, in __bool__\n",
      "    return bool(self._sequence)\n",
      "  File \"/home/student/.local/lib/python3.6/site-packages/pip/_internal/resolution/resolvelib/found_candidates.py\", line 155, in __bool__\n",
      "    return any(self)\n",
      "  File \"/home/student/.local/lib/python3.6/site-packages/pip/_internal/resolution/resolvelib/found_candidates.py\", line 143, in <genexpr>\n",
      "    return (c for c in iterator if id(c) not in self._incompatible_ids)\n",
      "  File \"/home/student/.local/lib/python3.6/site-packages/pip/_internal/resolution/resolvelib/found_candidates.py\", line 47, in _iter_built\n",
      "    candidate = func()\n",
      "  File \"/home/student/.local/lib/python3.6/site-packages/pip/_internal/resolution/resolvelib/factory.py\", line 206, in _make_candidate_from_link\n",
      "    version=version,\n",
      "  File \"/home/student/.local/lib/python3.6/site-packages/pip/_internal/resolution/resolvelib/candidates.py\", line 287, in __init__\n",
      "    version=version,\n",
      "  File \"/home/student/.local/lib/python3.6/site-packages/pip/_internal/resolution/resolvelib/candidates.py\", line 156, in __init__\n",
      "    self.dist = self._prepare()\n",
      "  File \"/home/student/.local/lib/python3.6/site-packages/pip/_internal/resolution/resolvelib/candidates.py\", line 225, in _prepare\n",
      "    dist = self._prepare_distribution()\n",
      "  File \"/home/student/.local/lib/python3.6/site-packages/pip/_internal/resolution/resolvelib/candidates.py\", line 292, in _prepare_distribution\n",
      "    return preparer.prepare_linked_requirement(self._ireq, parallel_builds=True)\n",
      "  File \"/home/student/.local/lib/python3.6/site-packages/pip/_internal/operations/prepare.py\", line 482, in prepare_linked_requirement\n",
      "    return self._prepare_linked_requirement(req, parallel_builds)\n",
      "  File \"/home/student/.local/lib/python3.6/site-packages/pip/_internal/operations/prepare.py\", line 528, in _prepare_linked_requirement\n",
      "    link, req.source_dir, self._download, self.download_dir, hashes\n",
      "  File \"/home/student/.local/lib/python3.6/site-packages/pip/_internal/operations/prepare.py\", line 217, in unpack_url\n",
      "    hashes=hashes,\n",
      "  File \"/home/student/.local/lib/python3.6/site-packages/pip/_internal/operations/prepare.py\", line 94, in get_http_url\n",
      "    from_path, content_type = download(link, temp_dir.path)\n",
      "  File \"/home/student/.local/lib/python3.6/site-packages/pip/_internal/network/download.py\", line 132, in __call__\n",
      "    resp = _http_get_download(self._session, link)\n",
      "  File \"/home/student/.local/lib/python3.6/site-packages/pip/_internal/network/download.py\", line 115, in _http_get_download\n",
      "    resp = session.get(target_url, headers=HEADERS, stream=True)\n",
      "  File \"/home/student/.local/lib/python3.6/site-packages/pip/_vendor/requests/sessions.py\", line 555, in get\n",
      "    return self.request('GET', url, **kwargs)\n",
      "  File \"/home/student/.local/lib/python3.6/site-packages/pip/_internal/network/session.py\", line 454, in request\n",
      "    return super().request(method, url, *args, **kwargs)\n",
      "  File \"/home/student/.local/lib/python3.6/site-packages/pip/_vendor/requests/sessions.py\", line 542, in request\n",
      "    resp = self.send(prep, **send_kwargs)\n",
      "  File \"/home/student/.local/lib/python3.6/site-packages/pip/_vendor/requests/sessions.py\", line 655, in send\n",
      "    r = adapter.send(request, **kwargs)\n",
      "  File \"/home/student/.local/lib/python3.6/site-packages/pip/_vendor/cachecontrol/adapter.py\", line 44, in send\n",
      "    cached_response = self.controller.cached_request(request)\n",
      "  File \"/home/student/.local/lib/python3.6/site-packages/pip/_vendor/cachecontrol/controller.py\", line 145, in cached_request\n",
      "    resp = self.serializer.loads(request, cache_data)\n",
      "  File \"/home/student/.local/lib/python3.6/site-packages/pip/_vendor/cachecontrol/serialize.py\", line 97, in loads\n",
      "    return getattr(self, \"_loads_v{}\".format(ver))(request, data)\n",
      "  File \"/home/student/.local/lib/python3.6/site-packages/pip/_vendor/cachecontrol/serialize.py\", line 184, in _loads_v4\n",
      "    cached = msgpack.loads(data, raw=False)\n",
      "  File \"/home/student/.local/lib/python3.6/site-packages/pip/_vendor/msgpack/fallback.py\", line 127, in unpackb\n",
      "    unpacker.feed(packed)\n",
      "  File \"/home/student/.local/lib/python3.6/site-packages/pip/_vendor/msgpack/fallback.py\", line 354, in feed\n",
      "    self._buffer.extend(view)\n",
      "MemoryError\u001b[0m\n"
     ]
    }
   ],
   "source": [
    "!pip install pgmpy==0.1.18"
   ]
  },
  {
   "cell_type": "code",
   "execution_count": null,
   "id": "82a8376a",
   "metadata": {},
   "outputs": [],
   "source": []
  }
 ],
 "metadata": {
  "kernelspec": {
   "display_name": "Python 3",
   "language": "python",
   "name": "python3"
  },
  "language_info": {
   "codemirror_mode": {
    "name": "ipython",
    "version": 3
   },
   "file_extension": ".py",
   "mimetype": "text/x-python",
   "name": "python",
   "nbconvert_exporter": "python",
   "pygments_lexer": "ipython3",
   "version": "3.6.9"
  }
 },
 "nbformat": 4,
 "nbformat_minor": 5
}
