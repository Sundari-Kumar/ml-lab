{
 "cells": [
  {
   "cell_type": "markdown",
   "id": "98cc763f-dc10-4b1f-88d9-9bf00885e579",
   "metadata": {},
   "source": [
    "## Generators"
   ]
  },
  {
   "cell_type": "raw",
   "id": "86049ecb-46cd-4f24-a132-08206e28fa40",
   "metadata": {},
   "source": [
    "Yield pauses the funtion, remembers its state, and can resume where it left off"
   ]
  },
  {
   "cell_type": "code",
   "execution_count": 8,
   "id": "a74f872e-bc33-40ed-9d75-6618a0f22bbb",
   "metadata": {},
   "outputs": [],
   "source": [
    "def fun(max):\n",
    "    cnt = 0\n",
    "    while cnt <= max:\n",
    "        yield cnt  # Generates values one by one\n",
    "        cnt += 1\n",
    "gen = fun(5)  # Creates a generator object"
   ]
  },
  {
   "cell_type": "code",
   "execution_count": 9,
   "id": "e9ec30f3-9cc9-46d8-b968-bc48029a199e",
   "metadata": {},
   "outputs": [
    {
     "name": "stdout",
     "output_type": "stream",
     "text": [
      "0\n",
      "1\n",
      "2\n",
      "3\n",
      "4\n",
      "5\n"
     ]
    }
   ],
   "source": [
    "# Method 1: Using a loop to get values\n",
    "for num in gen:\n",
    "    print(num) "
   ]
  },
  {
   "cell_type": "code",
   "execution_count": 10,
   "id": "7651a95d-bb7f-41bc-8ecf-0af142ea37a1",
   "metadata": {},
   "outputs": [
    {
     "name": "stdout",
     "output_type": "stream",
     "text": [
      "0\n",
      "1\n",
      "2\n"
     ]
    }
   ],
   "source": [
    "# Method 2: Using next() to manually get values\n",
    "gen = fun(5)\n",
    "print(next(gen))  \n",
    "print(next(gen))  \n",
    "print(next(gen)) "
   ]
  },
  {
   "cell_type": "code",
   "execution_count": 11,
   "id": "2fe1f2d8-173e-416c-b252-65e68ed76542",
   "metadata": {},
   "outputs": [
    {
     "data": {
      "text/plain": [
       "3"
      ]
     },
     "execution_count": 11,
     "metadata": {},
     "output_type": "execute_result"
    }
   ],
   "source": [
    "next(gen)"
   ]
  },
  {
   "cell_type": "code",
   "execution_count": 12,
   "id": "3c73400e-70a6-439f-b306-d8fa84e8eea7",
   "metadata": {},
   "outputs": [],
   "source": [
    "def fibonacci(limit):\n",
    "    a,b=0,1\n",
    "    while(a<=limit):\n",
    "        yield a\n",
    "        a,b=b,a+b\n",
    "        "
   ]
  },
  {
   "cell_type": "code",
   "execution_count": 13,
   "id": "c14427a7-c215-4cab-bf5e-a471f2d6277a",
   "metadata": {},
   "outputs": [
    {
     "name": "stdout",
     "output_type": "stream",
     "text": [
      "0\n",
      "1\n",
      "1\n",
      "2\n",
      "3\n",
      "5\n",
      "8\n",
      "13\n",
      "21\n",
      "34\n"
     ]
    }
   ],
   "source": [
    "gen=fibonacci(50)\n",
    "for i in gen:\n",
    "    print(i)"
   ]
  },
  {
   "cell_type": "markdown",
   "id": "afee4b97-8381-4c69-953b-8c6e28d61d97",
   "metadata": {},
   "source": [
    "## File I/O"
   ]
  },
  {
   "cell_type": "markdown",
   "id": "91353229-c049-41bc-a335-06b08d5d8bf6",
   "metadata": {},
   "source": [
    "**Opening a file**"
   ]
  },
  {
   "cell_type": "code",
   "execution_count": 18,
   "id": "e3f58edc-b215-4dc1-9bdc-df1f4c59252b",
   "metadata": {},
   "outputs": [],
   "source": [
    "file=open(\"example.txt\",\"r\")"
   ]
  },
  {
   "cell_type": "markdown",
   "id": "64720ef2-b119-4f53-bd6f-fa6a92f8805f",
   "metadata": {},
   "source": [
    "**Reading a file**"
   ]
  },
  {
   "cell_type": "code",
   "execution_count": 28,
   "id": "a70aef2a-dada-495f-8323-73879af922b9",
   "metadata": {},
   "outputs": [
    {
     "name": "stdout",
     "output_type": "stream",
     "text": [
      "\n",
      "Iam a CS studentHi/nIam SundariHi\n",
      "Iam Sundari\n"
     ]
    }
   ],
   "source": [
    "file=open(\"example.txt\",\"r\")\n",
    "content=file.read()\n",
    "print(content)"
   ]
  },
  {
   "cell_type": "code",
   "execution_count": 20,
   "id": "a954a8de-cc35-4ee2-a88a-d82b1c3e90da",
   "metadata": {},
   "outputs": [
    {
     "name": "stdout",
     "output_type": "stream",
     "text": [
      "hi!\n",
      "how are you?\n",
      "Iam Sundari K\n"
     ]
    }
   ],
   "source": [
    "file=open(\"example.txt\",\"r\")\n",
    "for line in file:\n",
    "    print(line.strip())"
   ]
  },
  {
   "cell_type": "code",
   "execution_count": 21,
   "id": "9b54efb6-832e-4b9e-8623-5ea2b9496d0a",
   "metadata": {},
   "outputs": [
    {
     "name": "stdout",
     "output_type": "stream",
     "text": [
      "hi\n"
     ]
    }
   ],
   "source": [
    "file=open(\"example.txt\",\"r\")\n",
    "print(file.read(2))"
   ]
  },
  {
   "cell_type": "code",
   "execution_count": 22,
   "id": "a45c80fc-06a5-4259-a5bb-66988611d204",
   "metadata": {},
   "outputs": [],
   "source": [
    "file.close()"
   ]
  },
  {
   "cell_type": "markdown",
   "id": "a4831179-117c-432a-bd27-73b3f21b2177",
   "metadata": {},
   "source": [
    "**Writing to a file**"
   ]
  },
  {
   "cell_type": "code",
   "execution_count": 29,
   "id": "7759219e-3142-491f-ad45-2c98e400c742",
   "metadata": {},
   "outputs": [],
   "source": [
    "#overweite  file\n",
    "file=open(\"example.txt\",\"w\")\n",
    "file.write(\"\\nIam a CS student\")\n",
    "file.close()"
   ]
  },
  {
   "cell_type": "code",
   "execution_count": 32,
   "id": "93e13e90-b236-4ab3-8fea-08ea91a7d2df",
   "metadata": {},
   "outputs": [],
   "source": [
    "#append to a file\n",
    "file=open(\"example.txt\",\"a\")\n",
    "file.write(\"\\nHi\\nIam Sundari\")\n",
    "file.close()"
   ]
  },
  {
   "cell_type": "markdown",
   "id": "2b1933f4-17f9-4582-8aac-1b20eb7f0e14",
   "metadata": {},
   "source": [
    "**Using with statement**"
   ]
  },
  {
   "cell_type": "code",
   "execution_count": 33,
   "id": "f0cf0159-13eb-4703-8627-48c5623a072f",
   "metadata": {},
   "outputs": [
    {
     "name": "stdout",
     "output_type": "stream",
     "text": [
      "\n",
      "Iam a CS studentHi\n",
      "Iam Sundari\n",
      "Hi\n",
      "Iam Sundari\n"
     ]
    }
   ],
   "source": [
    "with open(\"example.txt\",\"r\") as file:\n",
    "    content=file.read()\n",
    "    print(content) #no need to call file.close()"
   ]
  },
  {
   "cell_type": "markdown",
   "id": "47057bd4-aad5-42e1-b2a7-73d64bc4db53",
   "metadata": {},
   "source": [
    "**Working with binary files**"
   ]
  },
  {
   "cell_type": "code",
   "execution_count": 35,
   "id": "5fbbbd54-0c8d-4396-a114-0009aabd6968",
   "metadata": {},
   "outputs": [
    {
     "name": "stdout",
     "output_type": "stream",
     "text": [
      "b'\\xff\\xd8\\xff\\xe0\\x00\\x10JFIF\\x00\\x01\\x01\\x01\\x00`\\x00`\\x00\\x00'\n"
     ]
    }
   ],
   "source": [
    "with open(\"image.jpg\",\"rb\") as file:\n",
    "    data=file.read()\n",
    "    print(data[:20])"
   ]
  },
  {
   "cell_type": "code",
   "execution_count": 37,
   "id": "c61b3f14-7142-4e5e-b476-d9150451c424",
   "metadata": {},
   "outputs": [],
   "source": [
    "with open(\"copy.jpg\",\"wb\") as file:\n",
    "    file.write(data)"
   ]
  },
  {
   "cell_type": "markdown",
   "id": "7314a659-fcaa-4b5a-a8fd-f8d4e4dea307",
   "metadata": {},
   "source": [
    "## Regular Expression"
   ]
  },
  {
   "cell_type": "markdown",
   "id": "e9994cbb-bed0-4744-8bd7-94577921a38c",
   "metadata": {},
   "source": [
    "Function\tDescription\n",
    "re.match()\tChecks if the pattern matches at the beginning of the string\n",
    "re.search()\tSearches for the first match anywhere in the string\n",
    "re.findall()\tReturns all occurrences of the pattern as a list\n",
    "re.finditer()\tReturns an iterator of match objects\n",
    "re.sub()\tReplaces matches with another string\n",
    "re.split()\tSplits a string at each match"
   ]
  },
  {
   "cell_type": "code",
   "execution_count": 40,
   "id": "26b72ffd-f0e7-4f84-90f6-7cd02473046f",
   "metadata": {},
   "outputs": [
    {
     "name": "stdout",
     "output_type": "stream",
     "text": [
      "None\n"
     ]
    }
   ],
   "source": [
    "import re\n",
    "pattern=r\"book\"\n",
    "text=\"bool value\"\n",
    "print(re.match(pattern,text))"
   ]
  },
  {
   "cell_type": "code",
   "execution_count": 41,
   "id": "ff6e9196-defe-4485-a636-7122072a351c",
   "metadata": {},
   "outputs": [
    {
     "name": "stdout",
     "output_type": "stream",
     "text": [
      "<re.Match object; span=(0, 4), match='book'>\n"
     ]
    }
   ],
   "source": [
    "import re\n",
    "pattern=r\"book\"\n",
    "text=\"book value\"\n",
    "print(re.match(pattern,text))"
   ]
  },
  {
   "cell_type": "code",
   "execution_count": 44,
   "id": "2a734f18-a3d8-43cf-84fe-89b870778883",
   "metadata": {},
   "outputs": [
    {
     "name": "stdout",
     "output_type": "stream",
     "text": [
      "<re.Match object; span=(8, 12), match='bool'>\n"
     ]
    }
   ],
   "source": [
    "import re\n",
    "pattern=r\"bool\"\n",
    "text=\"that is bool value\"\n",
    "print(re.search(pattern,text))"
   ]
  },
  {
   "cell_type": "code",
   "execution_count": 46,
   "id": "670ab385-f2f9-4668-b55f-2b2160c89a68",
   "metadata": {},
   "outputs": [
    {
     "name": "stdout",
     "output_type": "stream",
     "text": [
      "['bool', 'bool']\n"
     ]
    }
   ],
   "source": [
    "import re\n",
    "pattern=r\"bool\"\n",
    "text=\"that is bool value. and the bool value is true or false\"\n",
    "print(re.findall(pattern,text))"
   ]
  },
  {
   "cell_type": "code",
   "execution_count": 47,
   "id": "a1f3936d-e50f-4153-8903-a804e7228780",
   "metadata": {},
   "outputs": [
    {
     "name": "stdout",
     "output_type": "stream",
     "text": [
      "8\n",
      "28\n"
     ]
    }
   ],
   "source": [
    "import re\n",
    "pattern=r\"bool\"\n",
    "text=\"that is bool value. and the bool value is true or false\"\n",
    "for match in re.finditer(pattern,text):\n",
    "    print(match.start())"
   ]
  },
  {
   "cell_type": "code",
   "execution_count": 49,
   "id": "062cbfcb-3d14-48e8-b89a-e03df81a4f80",
   "metadata": {},
   "outputs": [
    {
     "name": "stdout",
     "output_type": "stream",
     "text": [
      "that is the bool value. and the bool value is the true or false\n"
     ]
    }
   ],
   "source": [
    "text=\"that is bool value. and the bool value is true or false\"\n",
    "print(re.sub(r\"is\",\"is the\",text))"
   ]
  },
  {
   "cell_type": "code",
   "execution_count": 50,
   "id": "49d8a81c-465e-464e-853c-139f961bf2df",
   "metadata": {},
   "outputs": [
    {
     "name": "stdout",
     "output_type": "stream",
     "text": [
      "['one', 'two', 'three', 'four', 'five']\n"
     ]
    }
   ],
   "source": [
    "text=\"one,two:three{four^five\"\n",
    "print(re.split(r\"[,:{^]\",text))"
   ]
  },
  {
   "cell_type": "markdown",
   "id": "3bafa6db-3a4b-47d9-8307-74da8f5589f8",
   "metadata": {},
   "source": [
    "**Extracting Email Addresses**"
   ]
  },
  {
   "cell_type": "code",
   "execution_count": 51,
   "id": "247aff0b-2001-4e3a-a405-432dfca6cea1",
   "metadata": {},
   "outputs": [
    {
     "name": "stdout",
     "output_type": "stream",
     "text": [
      "['sundari.k31082004@gmail.com', 'sales@example.org']\n"
     ]
    }
   ],
   "source": [
    "text = \"Contact us at sundari.k31082004@gmail.com or sales@example.org\"\n",
    "emails = re.findall(r\"[a-zA-Z0-9._%+-]+@[a-zA-Z0-9.-]+\\.[a-zA-Z]{2,}\", text)\n",
    "print(emails)  "
   ]
  },
  {
   "cell_type": "code",
   "execution_count": null,
   "id": "1f4b3416-aacb-4ea8-a8e2-0662bb8086b5",
   "metadata": {},
   "outputs": [],
   "source": []
  }
 ],
 "metadata": {
  "kernelspec": {
   "display_name": "Python 3 (ipykernel)",
   "language": "python",
   "name": "python3"
  },
  "language_info": {
   "codemirror_mode": {
    "name": "ipython",
    "version": 3
   },
   "file_extension": ".py",
   "mimetype": "text/x-python",
   "name": "python",
   "nbconvert_exporter": "python",
   "pygments_lexer": "ipython3",
   "version": "3.11.7"
  }
 },
 "nbformat": 4,
 "nbformat_minor": 5
}
