{
 "cells": [
  {
   "cell_type": "code",
   "execution_count": 6,
   "id": "95fccbe5",
   "metadata": {},
   "outputs": [
    {
     "name": "stdout",
     "output_type": "stream",
     "text": [
      "Final Specific Hypothesis (S): ['?', '?', '?', '?', '?', '?']\n",
      "Final General Hypotheses (G): [['?', '?', '?', '?', '?', '?'], ['Rainy', '?', '?', '?', '?', '?'], ['?', 'Cold', '?', '?', '?', '?'], ['?', '?', 'High', '?', '?', '?'], ['?', '?', '?', 'Weak', '?', '?'], ['?', '?', '?', '?', 'Cool', '?'], ['?', '?', '?', '?', '?', 'Change']]\n"
     ]
    }
   ],
   "source": [
    "import pandas as pd\n",
    "\n",
    "# Step 1: Create the Training Dataset\n",
    "data = [\n",
    "    [\"Sunny\", \"Warm\", \"Normal\", \"Strong\", \"Warm\", \"Same\", \"Yes\"],\n",
    "    [\"Sunny\", \"Warm\", \"High\", \"Strong\", \"Warm\", \"Same\", \"Yes\"],\n",
    "    [\"Rainy\", \"Cold\", \"High\", \"Strong\", \"Warm\", \"Change\", \"No\"],\n",
    "    [\"Sunny\", \"Warm\", \"High\", \"Strong\", \"Cool\", \"Change\", \"Yes\"],\n",
    "    [\"Overcast\", \"Hot\", \"High\", \"Weak\", \"Cool\", \"Same\", \"Yes\"],\n",
    "    [\"Rainy\", \"Warm\", \"High\", \"Strong\", \"Warm\", \"Same\", \"No\"],\n",
    "    [\"Sunny\", \"Warm\", \"Normal\", \"Strong\", \"Warm\", \"Same\", \"Yes\"],\n",
    "    [\"Sunny\", \"Hot\", \"High\", \"Weak\", \"Cool\", \"Change\", \"Yes\"],\n",
    "    [\"Overcast\", \"Cold\", \"Normal\", \"Weak\", \"Warm\", \"Same\", \"Yes\"],\n",
    "    [\"Rainy\", \"Cold\", \"High\", \"Weak\", \"Cool\", \"Change\", \"No\"]\n",
    "]\n",
    "\n",
    "# Convert to DataFrame\n",
    "columns = [\"Sky\", \"Temp\", \"Humidity\", \"Wind\", \"Water\", \"Forecast\", \"PlayTennis\"]\n",
    "df = pd.DataFrame(data, columns=columns)\n",
    "\n",
    "# Candidate Elimination Algorithm\n",
    "def candidate_elimination(training_data):\n",
    "    num_attributes = len(training_data.columns) - 1  # Number of attributes\n",
    "\n",
    "    # Initialize Specific Hypothesis (S) as the most specific\n",
    "    S = [\"∅\"] * num_attributes  \n",
    "\n",
    "    # Initialize General Hypothesis (G) as the most general\n",
    "    G = [[\"?\"] * num_attributes]  \n",
    "\n",
    "    for _, row in training_data.iterrows():\n",
    "        instance = row.iloc[:-1].tolist()  # Extract feature values\n",
    "        label = row.iloc[-1]  # Extract class label\n",
    "\n",
    "        if label == \"Yes\":  # Positive Example\n",
    "            if S[0] == \"∅\":\n",
    "                S = instance  # Initialize S with the first positive example\n",
    "            else:\n",
    "                for i in range(num_attributes):\n",
    "                    if S[i] != instance[i]:  \n",
    "                        S[i] = \"?\"  # Generalize S minimally\n",
    "\n",
    "            # Remove inconsistent hypotheses from G\n",
    "            G = [g for g in G if all(g[k] == \"?\" or g[k] == instance[k] for k in range(num_attributes))]\n",
    "\n",
    "        else:  # Negative Example\n",
    "            new_G = []\n",
    "            for g in G:\n",
    "                for i in range(num_attributes):\n",
    "                    if g[i] == \"?\":  # Specializing G\n",
    "                        new_g = g.copy()\n",
    "                        new_g[i] = instance[i]\n",
    "                        if new_g not in new_G:\n",
    "                            new_G.append(new_g)\n",
    "            G.extend(new_G)\n",
    "\n",
    "            # Remove overly specific hypotheses from G\n",
    "            G = [g for g in G if any(g[k] == \"?\" for k in range(num_attributes))]\n",
    "\n",
    "    return S, G\n",
    "\n",
    "# Run the Algorithm and Print Results\n",
    "S_final, G_final = candidate_elimination(df)\n",
    "print(\"Final Specific Hypothesis (S):\", S_final)\n",
    "print(\"Final General Hypotheses (G):\", G_final)\n"
   ]
  },
  {
   "cell_type": "code",
   "execution_count": null,
   "id": "04115c9d",
   "metadata": {},
   "outputs": [],
   "source": []
  },
  {
   "cell_type": "code",
   "execution_count": null,
   "id": "204dc1f3",
   "metadata": {},
   "outputs": [],
   "source": []
  }
 ],
 "metadata": {
  "kernelspec": {
   "display_name": "Python 3 (ipykernel)",
   "language": "python",
   "name": "python3"
  },
  "language_info": {
   "codemirror_mode": {
    "name": "ipython",
    "version": 3
   },
   "file_extension": ".py",
   "mimetype": "text/x-python",
   "name": "python",
   "nbconvert_exporter": "python",
   "pygments_lexer": "ipython3",
   "version": "3.7.6"
  }
 },
 "nbformat": 4,
 "nbformat_minor": 5
}
