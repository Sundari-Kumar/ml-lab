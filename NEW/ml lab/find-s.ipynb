{
 "cells": [
  {
   "cell_type": "code",
   "execution_count": 3,
   "id": "c8d55ede",
   "metadata": {},
   "outputs": [
    {
     "name": "stdout",
     "output_type": "stream",
     "text": [
      "\n",
      "=== Find-S Algorithm Execution ===\n",
      "\n",
      "Processing positive example 1: ['Sunny', 'Warm', 'Normal', 'Strong', 'Warm', 'Same']\n",
      "Initializing hypothesis: ['Sunny', 'Warm', 'Normal', 'Strong', 'Warm', 'Same']\n",
      "\n",
      "Processing positive example 2: ['Sunny', 'Warm', 'High', 'Strong', 'Warm', 'Same']\n",
      "Updated hypothesis: ['Sunny', 'Warm', '?', 'Strong', 'Warm', 'Same']\n",
      "\n",
      "Processing positive example 4: ['Sunny', 'Warm', 'High', 'Strong', 'Cool', 'Change']\n",
      "Updated hypothesis: ['Sunny', 'Warm', '?', 'Strong', '?', '?']\n",
      "\n",
      "Processing positive example 5: ['Overcast', 'Hot', 'High', 'Weak', 'Cool', 'Same']\n",
      "Updated hypothesis: ['?', '?', '?', '?', '?', '?']\n",
      "\n",
      "Processing positive example 7: ['Sunny', 'Warm', 'Normal', 'Strong', 'Warm', 'Same']\n",
      "Updated hypothesis: ['?', '?', '?', '?', '?', '?']\n",
      "\n",
      "Processing positive example 9: ['Overcast', 'Cold', 'Normal', 'Weak', 'Warm', 'Same']\n",
      "Updated hypothesis: ['?', '?', '?', '?', '?', '?']\n",
      "\n",
      "Final Hypothesis: ['?', '?', '?', '?', '?', '?']\n"
     ]
    }
   ],
   "source": [
    "import pandas as pd\n",
    "\n",
    "# Sample dataset (10 samples)\n",
    "data = [\n",
    "    [\"Sunny\", \"Warm\", \"Normal\", \"Strong\", \"Warm\", \"Same\", \"Yes\"],\n",
    "    [\"Sunny\", \"Warm\", \"High\", \"Strong\", \"Warm\", \"Same\", \"Yes\"],\n",
    "    [\"Rainy\", \"Cold\", \"High\", \"Strong\", \"Warm\", \"Change\", \"No\"],\n",
    "    [\"Sunny\", \"Warm\", \"High\", \"Strong\", \"Cool\", \"Change\", \"Yes\"],\n",
    "    [\"Overcast\", \"Hot\", \"High\", \"Weak\", \"Cool\", \"Same\", \"Yes\"],\n",
    "    [\"Rainy\", \"Warm\", \"High\", \"Strong\", \"Warm\", \"Same\", \"No\"],\n",
    "    [\"Sunny\", \"Warm\", \"Normal\", \"Strong\", \"Warm\", \"Same\", \"Yes\"],\n",
    "    [\"Sunny\", \"Hot\", \"High\", \"Weak\", \"Cool\", \"Change\", \"No\"],\n",
    "    [\"Overcast\", \"Cold\", \"Normal\", \"Weak\", \"Warm\", \"Same\", \"Yes\"],\n",
    "    [\"Rainy\", \"Cold\", \"High\", \"Weak\", \"Cool\", \"Change\", \"No\"]\n",
    "]\n",
    "\n",
    "# Convert to DataFrame\n",
    "columns = [\"Sky\", \"Temp\", \"Humidity\", \"Wind\", \"Water\", \"Forecast\", \"PlayTennis\"]\n",
    "df = pd.DataFrame(data, columns=columns)\n",
    "\n",
    "# Function to implement Find-S Algorithm\n",
    "def find_s(training_data):\n",
    "    num_attributes = len(training_data.columns) - 1  # Number of attributes\n",
    "    hypothesis = [\"∅\"] * num_attributes  # Initialize most specific hypothesis\n",
    "\n",
    "    print(\"\\n=== Find-S Algorithm Execution ===\")\n",
    "    \n",
    "    for i, row in training_data.iterrows():\n",
    "        if row.iloc[-1] == \"Yes\":  # Consider only positive examples\n",
    "            print(f\"\\nProcessing positive example {i + 1}: {row.iloc[:-1].tolist()}\")\n",
    "            \n",
    "            if hypothesis[0] == \"∅\":  \n",
    "                hypothesis = row.iloc[:-1].tolist()  # First positive example initializes hypothesis\n",
    "                print(f\"Initializing hypothesis: {hypothesis}\")\n",
    "            else:\n",
    "                # Generalizing hypothesis by replacing differing attributes with \"?\"\n",
    "                for j in range(num_attributes):\n",
    "                    if hypothesis[j] != row.iloc[j]:\n",
    "                        hypothesis[j] = \"?\"\n",
    "                print(f\"Updated hypothesis: {hypothesis}\")\n",
    "\n",
    "    print(\"\\nFinal Hypothesis:\", hypothesis)\n",
    "    return hypothesis\n",
    "\n",
    "# Run the algorithm\n",
    "final_hypothesis = find_s(df)\n"
   ]
  },
  {
   "cell_type": "code",
   "execution_count": null,
   "id": "a959bf03",
   "metadata": {},
   "outputs": [],
   "source": []
  }
 ],
 "metadata": {
  "kernelspec": {
   "display_name": "Python 3 (ipykernel)",
   "language": "python",
   "name": "python3"
  },
  "language_info": {
   "codemirror_mode": {
    "name": "ipython",
    "version": 3
   },
   "file_extension": ".py",
   "mimetype": "text/x-python",
   "name": "python",
   "nbconvert_exporter": "python",
   "pygments_lexer": "ipython3",
   "version": "3.7.6"
  }
 },
 "nbformat": 4,
 "nbformat_minor": 5
}
