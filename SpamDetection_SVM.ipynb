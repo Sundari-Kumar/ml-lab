{
 "cells": [
  {
   "cell_type": "code",
   "execution_count": 7,
   "id": "70dafb51-171b-41ef-b6ea-0bee55528921",
   "metadata": {},
   "outputs": [
    {
     "name": "stdout",
     "output_type": "stream",
     "text": [
      "Defaulting to user installation because normal site-packages is not writeable\n",
      "Requirement already satisfied: pandas in c:\\users\\jalee\\appdata\\roaming\\python\\python313\\site-packages (2.2.3)\n",
      "Requirement already satisfied: scikit-learn in c:\\users\\jalee\\appdata\\roaming\\python\\python313\\site-packages (1.6.1)\n",
      "Requirement already satisfied: numpy>=1.26.0 in c:\\users\\jalee\\appdata\\roaming\\python\\python313\\site-packages (from pandas) (2.2.3)\n",
      "Requirement already satisfied: python-dateutil>=2.8.2 in c:\\users\\jalee\\appdata\\roaming\\python\\python313\\site-packages (from pandas) (2.9.0.post0)\n",
      "Requirement already satisfied: pytz>=2020.1 in c:\\users\\jalee\\appdata\\roaming\\python\\python313\\site-packages (from pandas) (2025.1)\n",
      "Requirement already satisfied: tzdata>=2022.7 in c:\\users\\jalee\\appdata\\roaming\\python\\python313\\site-packages (from pandas) (2025.1)\n",
      "Requirement already satisfied: scipy>=1.6.0 in c:\\users\\jalee\\appdata\\roaming\\python\\python313\\site-packages (from scikit-learn) (1.15.3)\n",
      "Requirement already satisfied: joblib>=1.2.0 in c:\\users\\jalee\\appdata\\roaming\\python\\python313\\site-packages (from scikit-learn) (1.5.0)\n",
      "Requirement already satisfied: threadpoolctl>=3.1.0 in c:\\users\\jalee\\appdata\\roaming\\python\\python313\\site-packages (from scikit-learn) (3.6.0)\n",
      "Requirement already satisfied: six>=1.5 in c:\\users\\jalee\\appdata\\roaming\\python\\python313\\site-packages (from python-dateutil>=2.8.2->pandas) (1.17.0)\n"
     ]
    },
    {
     "name": "stderr",
     "output_type": "stream",
     "text": [
      "\n",
      "[notice] A new release of pip is available: 24.3.1 -> 25.1.1\n",
      "[notice] To update, run: python.exe -m pip install --upgrade pip\n"
     ]
    }
   ],
   "source": [
    "!pip install pandas scikit-learn"
   ]
  },
  {
   "cell_type": "code",
   "execution_count": 1,
   "id": "f11a9489-674e-4aa7-b058-cd3e50c1ab0b",
   "metadata": {},
   "outputs": [
    {
     "name": "stdout",
     "output_type": "stream",
     "text": [
      "Accuracy: 0.5\n",
      "\n",
      "Classification Report:\n",
      "               precision    recall  f1-score   support\n",
      "\n",
      "           0       0.00      0.00      0.00         1\n",
      "           1       0.50      1.00      0.67         1\n",
      "\n",
      "    accuracy                           0.50         2\n",
      "   macro avg       0.25      0.50      0.33         2\n",
      "weighted avg       0.25      0.50      0.33         2\n",
      "\n",
      "\n",
      "New Message Predictions:\n",
      "'Congratulations! You've won a free iPhone. Click here to claim.' => SPAM\n",
      "'Are we still meeting for lunch tomorrow?' => SPAM\n",
      "'Your loan is approved. Submit your bank details now!' => SPAM\n"
     ]
    }
   ],
   "source": [
    "import pandas as pd\n",
    "from sklearn.model_selection import train_test_split\n",
    "from sklearn.feature_extraction.text import TfidfVectorizer\n",
    "from sklearn.svm import SVC\n",
    "from sklearn.metrics import classification_report, accuracy_score\n",
    "\n",
    "# Step 1: Load a small sample dataset (replace with full dataset if available)\n",
    "data = {\n",
    "    'label': ['ham', 'spam', 'ham', 'spam', 'ham', 'spam', 'ham', 'spam'],\n",
    "    'message': [\n",
    "        'Hey, are we still on for tonight?',\n",
    "        'Win $1000 cash by clicking here!',\n",
    "        'I’ll call you later.',\n",
    "        'Congratulations! You have won a lottery. Reply YES to claim.',\n",
    "        'Can you send me the report?',\n",
    "        'Urgent! Your account will be blocked. Verify now!',\n",
    "        'Let’s catch up this weekend.',\n",
    "        'You’ve been selected for a $500 Walmart gift card.'\n",
    "    ]\n",
    "}\n",
    "df = pd.DataFrame(data)\n",
    "\n",
    "# Step 2: Encode labels (ham = 0, spam = 1)\n",
    "df['label_num'] = df['label'].map({'ham': 0, 'spam': 1})\n",
    "\n",
    "# Step 3: Vectorize the text data\n",
    "vectorizer = TfidfVectorizer(stop_words='english')\n",
    "X = vectorizer.fit_transform(df['message'])\n",
    "y = df['label_num']\n",
    "\n",
    "# Step 4: Train-test split with stratification to balance classes\n",
    "X_train, X_test, y_train, y_test = train_test_split(\n",
    "    X, y, test_size=0.25, random_state=42, stratify=y\n",
    ")\n",
    "\n",
    "# Step 5: Train SVM model\n",
    "svm = SVC(kernel='linear')\n",
    "svm.fit(X_train, y_train)\n",
    "\n",
    "# Step 6: Evaluate\n",
    "y_pred = svm.predict(X_test)\n",
    "print(\"Accuracy:\", accuracy_score(y_test, y_pred))\n",
    "print(\"\\nClassification Report:\\n\", classification_report(y_test, y_pred, zero_division=0))\n",
    "\n",
    "# Step 7: Predict on new messages\n",
    "new_messages = [\n",
    "    \"Congratulations! You've won a free iPhone. Click here to claim.\",\n",
    "    \"Are we still meeting for lunch tomorrow?\",\n",
    "    \"Your loan is approved. Submit your bank details now!\"\n",
    "]\n",
    "new_vectors = vectorizer.transform(new_messages)\n",
    "predictions = svm.predict(new_vectors)\n",
    "\n",
    "print(\"\\nNew Message Predictions:\")\n",
    "for msg, pred in zip(new_messages, predictions):\n",
    "    label = \"SPAM\" if pred else \"HAM\"\n",
    "    print(f\"'{msg}' => {label}\")\n"
   ]
  },
  {
   "cell_type": "code",
   "execution_count": null,
   "id": "bc2a1a20-fbbc-4bc6-ace1-3fe3b0c5620a",
   "metadata": {},
   "outputs": [],
   "source": []
  }
 ],
 "metadata": {
  "kernelspec": {
   "display_name": "Python 3 (ipykernel)",
   "language": "python",
   "name": "python3"
  },
  "language_info": {
   "codemirror_mode": {
    "name": "ipython",
    "version": 3
   },
   "file_extension": ".py",
   "mimetype": "text/x-python",
   "name": "python",
   "nbconvert_exporter": "python",
   "pygments_lexer": "ipython3",
   "version": "3.11.7"
  }
 },
 "nbformat": 4,
 "nbformat_minor": 5
}
