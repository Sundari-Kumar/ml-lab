{
 "cells": [
  {
   "cell_type": "code",
   "execution_count": 3,
   "id": "0963e84f",
   "metadata": {},
   "outputs": [
    {
     "name": "stdout",
     "output_type": "stream",
     "text": [
      "\n",
      "Initial Hypothesis: ['∅', '∅', '∅', '∅', '∅', '∅']\n",
      "Updated Hypothesis after Example 1: ['Sunny', 'Warm', 'Normal', 'Strong', 'Warm', 'Same']\n",
      "Updated Hypothesis after Example 2: ['Sunny', 'Warm', '?', 'Strong', 'Warm', 'Same']\n",
      "Updated Hypothesis after Example 4: ['Sunny', 'Warm', '?', 'Strong', '?', '?']\n",
      "\n",
      "Final Hypothesis: ['Sunny', 'Warm', '?', 'Strong', '?', '?']\n"
     ]
    }
   ],
   "source": [
    "import pandas as pd\n",
    "\n",
    "def find_s_algorithm(data, attributes, target):\n",
    "    \"\"\"\n",
    "    Find-S algorithm for finding the most specific hypothesis.\n",
    "\n",
    "    Args:\n",
    "        data (pd.DataFrame): The training data.\n",
    "        attributes (list): List of attribute names.\n",
    "        target (str): Name of the target attribute.\n",
    "\n",
    "    Returns:\n",
    "        list: The final hypothesis.\n",
    "    \"\"\"\n",
    "    hypothesis = [\"∅\"] * len(attributes)\n",
    "    print(\"\\nInitial Hypothesis:\", hypothesis)\n",
    "\n",
    "    for index, row in data.iterrows():\n",
    "        if row[target] == \"Yes\":\n",
    "            for i in range(len(attributes)):\n",
    "                if hypothesis[i] == \"∅\":\n",
    "                    hypothesis[i] = row[attributes[i]]\n",
    "                elif hypothesis[i] != row[attributes[i]]:\n",
    "                    hypothesis[i] = \"?\"\n",
    "            print(f\"Updated Hypothesis after Example {index + 1}: {hypothesis}\")\n",
    "\n",
    "    return hypothesis\n",
    "\n",
    "# --- CSV Data Loading ---\n",
    "file_name = \"dataset.csv\"  # Replace \"your_data.csv\" with your actual file name\n",
    "df = pd.read_csv(file_name)\n",
    "\n",
    "# --- End of data loading section ---\n",
    "\n",
    "attributes = df.columns[:-1]\n",
    "target_col = df.columns[-1]\n",
    "\n",
    "final_hypothesis = find_s_algorithm(df, attributes, target_col)\n",
    "\n",
    "print(\"\\nFinal Hypothesis:\", final_hypothesis)\n",
    "\t\n"
   ]
  },
  {
   "cell_type": "code",
   "execution_count": null,
   "id": "aa947a8f",
   "metadata": {},
   "outputs": [],
   "source": []
  }
 ],
 "metadata": {
  "kernelspec": {
   "display_name": "Python 3 (ipykernel)",
   "language": "python",
   "name": "python3"
  },
  "language_info": {
   "codemirror_mode": {
    "name": "ipython",
    "version": 3
   },
   "file_extension": ".py",
   "mimetype": "text/x-python",
   "name": "python",
   "nbconvert_exporter": "python",
   "pygments_lexer": "ipython3",
   "version": "3.11.7"
  }
 },
 "nbformat": 4,
 "nbformat_minor": 5
}
