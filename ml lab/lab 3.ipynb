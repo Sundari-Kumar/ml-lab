{
 "cells": [
  {
   "cell_type": "markdown",
   "id": "ac2dfb3c-7a3f-4871-898c-0e42a5e17c61",
   "metadata": {},
   "source": [
    "## Modules"
   ]
  },
  {
   "cell_type": "code",
   "execution_count": 13,
   "id": "7412c12e-2551-438f-89fe-519e13bb3624",
   "metadata": {},
   "outputs": [
    {
     "name": "stdout",
     "output_type": "stream",
     "text": [
      "Writing first_module.py\n"
     ]
    }
   ],
   "source": [
    "%%writefile first_module.py\n",
    "def greet(name,dept):\n",
    "    print(f\"Hi {name}! from {dept} department\")\n",
    "def tri_area(l,b):\n",
    "    return l*b"
   ]
  },
  {
   "cell_type": "code",
   "execution_count": 14,
   "id": "3d2a9596-2e89-4772-b760-1ac1dc1a289b",
   "metadata": {},
   "outputs": [
    {
     "name": "stdout",
     "output_type": "stream",
     "text": [
      "Hi Sundari K! from CSE department\n"
     ]
    },
    {
     "data": {
      "text/plain": [
       "490"
      ]
     },
     "execution_count": 14,
     "metadata": {},
     "output_type": "execute_result"
    }
   ],
   "source": [
    "import first_module\n",
    "first_module.greet(\"Sundari K\",\"CSE\")\n",
    "first_module.tri_area(5,98)"
   ]
  },
  {
   "cell_type": "markdown",
   "id": "f4ea5fdc-ef9e-47c3-8c8d-96a8edf4a835",
   "metadata": {},
   "source": [
    "## packages"
   ]
  },
  {
   "cell_type": "code",
   "execution_count": 15,
   "id": "93c25593-13ab-4a20-9262-f884da5ae55f",
   "metadata": {},
   "outputs": [],
   "source": [
    "!mkdir first_package"
   ]
  },
  {
   "cell_type": "code",
   "execution_count": 16,
   "id": "026f713e-97ab-405e-9e81-def02d701c2f",
   "metadata": {},
   "outputs": [
    {
     "name": "stderr",
     "output_type": "stream",
     "text": [
      "UsageError: %%writefile is a cell magic, but the cell body is empty.\n"
     ]
    }
   ],
   "source": [
    "%%writefile first_package/__init__.py"
   ]
  },
  {
   "cell_type": "code",
   "execution_count": 17,
   "id": "9f29d07e-6476-4eb7-bf0e-68b8c5ce8155",
   "metadata": {},
   "outputs": [
    {
     "name": "stdout",
     "output_type": "stream",
     "text": [
      "Writing first_package/module1.py\n"
     ]
    }
   ],
   "source": [
    "%%writefile first_package/module1.py\n",
    "def first(age):\n",
    "    return f\"you are {age} age\"\n"
   ]
  },
  {
   "cell_type": "code",
   "execution_count": 18,
   "id": "cbae724b-8cd3-47ed-8dc0-4a0f7c6a0507",
   "metadata": {},
   "outputs": [
    {
     "name": "stdout",
     "output_type": "stream",
     "text": [
      "Writing first_package/module2.py\n"
     ]
    }
   ],
   "source": [
    "%%writefile first_package/module2.py\n",
    "def second(gender):\n",
    "    return f\"you are {gender} gender\""
   ]
  },
  {
   "cell_type": "code",
   "execution_count": 22,
   "id": "1049b08e-dae2-4c3a-86ef-2f876d667315",
   "metadata": {},
   "outputs": [
    {
     "name": "stdout",
     "output_type": "stream",
     "text": [
      "you are 35 age\n"
     ]
    },
    {
     "data": {
      "text/plain": [
       "'you are male gender'"
      ]
     },
     "execution_count": 22,
     "metadata": {},
     "output_type": "execute_result"
    }
   ],
   "source": [
    "import first_package.module1 as function1\n",
    "import first_package.module2 as function2\n",
    "print(function1.first(35))\n",
    "function2.second(\"male\")"
   ]
  },
  {
   "cell_type": "code",
   "execution_count": null,
   "id": "4cfa155e-0d48-4534-81b7-8f88fe46a759",
   "metadata": {},
   "outputs": [],
   "source": []
  }
 ],
 "metadata": {
  "kernelspec": {
   "display_name": "Python 3 (ipykernel)",
   "language": "python",
   "name": "python3"
  },
  "language_info": {
   "codemirror_mode": {
    "name": "ipython",
    "version": 3
   },
   "file_extension": ".py",
   "mimetype": "text/x-python",
   "name": "python",
   "nbconvert_exporter": "python",
   "pygments_lexer": "ipython3",
   "version": "3.11.7"
  }
 },
 "nbformat": 4,
 "nbformat_minor": 5
}
