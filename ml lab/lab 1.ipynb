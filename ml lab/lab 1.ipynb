{
 "cells": [
  {
   "cell_type": "markdown",
   "id": "2385ed81",
   "metadata": {},
   "source": [
    "## Python Fundamentals"
   ]
  },
  {
   "cell_type": "markdown",
   "id": "ba3507fd",
   "metadata": {},
   "source": [
    "**Variables**"
   ]
  },
  {
   "cell_type": "code",
   "execution_count": 9,
   "id": "7c2551d1",
   "metadata": {},
   "outputs": [],
   "source": [
    "name=\"Sundari\""
   ]
  },
  {
   "cell_type": "code",
   "execution_count": 10,
   "id": "feee4a0b",
   "metadata": {},
   "outputs": [
    {
     "data": {
      "text/plain": [
       "'Sundari'"
      ]
     },
     "execution_count": 10,
     "metadata": {},
     "output_type": "execute_result"
    }
   ],
   "source": [
    "name"
   ]
  },
  {
   "cell_type": "code",
   "execution_count": 11,
   "id": "325908a9",
   "metadata": {},
   "outputs": [],
   "source": [
    "age=20"
   ]
  },
  {
   "cell_type": "code",
   "execution_count": 12,
   "id": "bb9558a6",
   "metadata": {},
   "outputs": [
    {
     "data": {
      "text/plain": [
       "20"
      ]
     },
     "execution_count": 12,
     "metadata": {},
     "output_type": "execute_result"
    }
   ],
   "source": [
    "age"
   ]
  },
  {
   "cell_type": "code",
   "execution_count": 13,
   "id": "4c8ad453",
   "metadata": {},
   "outputs": [],
   "source": [
    "is_student=True"
   ]
  },
  {
   "cell_type": "code",
   "execution_count": 14,
   "id": "67cbd5e0",
   "metadata": {},
   "outputs": [
    {
     "data": {
      "text/plain": [
       "True"
      ]
     },
     "execution_count": 14,
     "metadata": {},
     "output_type": "execute_result"
    }
   ],
   "source": [
    "is_student"
   ]
  },
  {
   "cell_type": "markdown",
   "id": "413a1ad8",
   "metadata": {},
   "source": [
    "**Type checking**"
   ]
  },
  {
   "cell_type": "code",
   "execution_count": 15,
   "id": "ba76b9c8",
   "metadata": {},
   "outputs": [
    {
     "name": "stdout",
     "output_type": "stream",
     "text": [
      "<class 'int'>\n"
     ]
    }
   ],
   "source": [
    "print(type(age))"
   ]
  },
  {
   "cell_type": "code",
   "execution_count": 16,
   "id": "2dad5f8a",
   "metadata": {},
   "outputs": [
    {
     "data": {
      "text/plain": [
       "str"
      ]
     },
     "execution_count": 16,
     "metadata": {},
     "output_type": "execute_result"
    }
   ],
   "source": [
    "type(name)"
   ]
  },
  {
   "cell_type": "code",
   "execution_count": 17,
   "id": "d71e0ac3",
   "metadata": {},
   "outputs": [
    {
     "data": {
      "text/plain": [
       "bool"
      ]
     },
     "execution_count": 17,
     "metadata": {},
     "output_type": "execute_result"
    }
   ],
   "source": [
    "type(is_student)"
   ]
  },
  {
   "cell_type": "markdown",
   "id": "40bd6c59",
   "metadata": {},
   "source": [
    "**Type conversion**"
   ]
  },
  {
   "cell_type": "code",
   "execution_count": 18,
   "id": "7040db3d",
   "metadata": {},
   "outputs": [],
   "source": [
    "a=str(age)"
   ]
  },
  {
   "cell_type": "code",
   "execution_count": 19,
   "id": "04de37c1",
   "metadata": {},
   "outputs": [
    {
     "data": {
      "text/plain": [
       "'20'"
      ]
     },
     "execution_count": 19,
     "metadata": {},
     "output_type": "execute_result"
    }
   ],
   "source": [
    "a"
   ]
  },
  {
   "cell_type": "code",
   "execution_count": 21,
   "id": "3847a579",
   "metadata": {},
   "outputs": [
    {
     "data": {
      "text/plain": [
       "str"
      ]
     },
     "execution_count": 21,
     "metadata": {},
     "output_type": "execute_result"
    }
   ],
   "source": [
    "type(a)"
   ]
  },
  {
   "cell_type": "code",
   "execution_count": 25,
   "id": "7087b4ae",
   "metadata": {},
   "outputs": [
    {
     "data": {
      "text/plain": [
       "'True'"
      ]
     },
     "execution_count": 25,
     "metadata": {},
     "output_type": "execute_result"
    }
   ],
   "source": [
    "str(is_student)"
   ]
  },
  {
   "cell_type": "code",
   "execution_count": 26,
   "id": "fcc8a570",
   "metadata": {},
   "outputs": [
    {
     "data": {
      "text/plain": [
       "bool"
      ]
     },
     "execution_count": 26,
     "metadata": {},
     "output_type": "execute_result"
    }
   ],
   "source": [
    "type(is_student)"
   ]
  },
  {
   "cell_type": "markdown",
   "id": "c55bcbc9",
   "metadata": {},
   "source": [
    "## Dictionaries"
   ]
  },
  {
   "cell_type": "code",
   "execution_count": 27,
   "id": "94bd9935",
   "metadata": {},
   "outputs": [],
   "source": [
    "dict_name={\"name\":\"Sundari K\",\n",
    "          \"age\":18,\n",
    "           \"course\":\"computer science\"}"
   ]
  },
  {
   "cell_type": "code",
   "execution_count": 28,
   "id": "0a30bec9",
   "metadata": {},
   "outputs": [
    {
     "data": {
      "text/plain": [
       "{'name': 'Sundari K', 'age': 18, 'course': 'computer science'}"
      ]
     },
     "execution_count": 28,
     "metadata": {},
     "output_type": "execute_result"
    }
   ],
   "source": [
    "dict_name"
   ]
  },
  {
   "cell_type": "code",
   "execution_count": 29,
   "id": "4ea8aba3",
   "metadata": {},
   "outputs": [
    {
     "data": {
      "text/plain": [
       "3"
      ]
     },
     "execution_count": 29,
     "metadata": {},
     "output_type": "execute_result"
    }
   ],
   "source": [
    "len(dict_name)"
   ]
  },
  {
   "cell_type": "code",
   "execution_count": 30,
   "id": "b7076972",
   "metadata": {},
   "outputs": [
    {
     "data": {
      "text/plain": [
       "dict"
      ]
     },
     "execution_count": 30,
     "metadata": {},
     "output_type": "execute_result"
    }
   ],
   "source": [
    "type(dict_name)"
   ]
  },
  {
   "cell_type": "markdown",
   "id": "6fe68013",
   "metadata": {},
   "source": [
    "**Access objects**"
   ]
  },
  {
   "cell_type": "code",
   "execution_count": 32,
   "id": "3e3b4a20",
   "metadata": {},
   "outputs": [
    {
     "data": {
      "text/plain": [
       "'Sundari K'"
      ]
     },
     "execution_count": 32,
     "metadata": {},
     "output_type": "execute_result"
    }
   ],
   "source": [
    "dict_name[\"name\"]"
   ]
  },
  {
   "cell_type": "code",
   "execution_count": 33,
   "id": "68b75b2a",
   "metadata": {},
   "outputs": [
    {
     "data": {
      "text/plain": [
       "18"
      ]
     },
     "execution_count": 33,
     "metadata": {},
     "output_type": "execute_result"
    }
   ],
   "source": [
    "dict_name.get(\"age\")"
   ]
  },
  {
   "cell_type": "code",
   "execution_count": 35,
   "id": "6a918869",
   "metadata": {},
   "outputs": [
    {
     "data": {
      "text/plain": [
       "dict_keys(['name', 'age', 'course'])"
      ]
     },
     "execution_count": 35,
     "metadata": {},
     "output_type": "execute_result"
    }
   ],
   "source": [
    "dict_name.keys()"
   ]
  },
  {
   "cell_type": "code",
   "execution_count": 36,
   "id": "2286c193",
   "metadata": {},
   "outputs": [
    {
     "data": {
      "text/plain": [
       "dict_values(['Sundari K', 18, 'computer science'])"
      ]
     },
     "execution_count": 36,
     "metadata": {},
     "output_type": "execute_result"
    }
   ],
   "source": [
    "dict_name.values()"
   ]
  },
  {
   "cell_type": "code",
   "execution_count": 37,
   "id": "208b0e65",
   "metadata": {},
   "outputs": [
    {
     "data": {
      "text/plain": [
       "dict_items([('name', 'Sundari K'), ('age', 18), ('course', 'computer science')])"
      ]
     },
     "execution_count": 37,
     "metadata": {},
     "output_type": "execute_result"
    }
   ],
   "source": [
    "dict_name.items()"
   ]
  },
  {
   "cell_type": "markdown",
   "id": "e021db29",
   "metadata": {},
   "source": [
    "**Change values**"
   ]
  },
  {
   "cell_type": "code",
   "execution_count": 38,
   "id": "cbc647b6",
   "metadata": {},
   "outputs": [],
   "source": [
    "dict_name[\"age\"]=20"
   ]
  },
  {
   "cell_type": "code",
   "execution_count": 39,
   "id": "8c92a7ca",
   "metadata": {},
   "outputs": [
    {
     "data": {
      "text/plain": [
       "20"
      ]
     },
     "execution_count": 39,
     "metadata": {},
     "output_type": "execute_result"
    }
   ],
   "source": [
    "dict_name[\"age\"]"
   ]
  },
  {
   "cell_type": "code",
   "execution_count": 40,
   "id": "7e0f4f66",
   "metadata": {},
   "outputs": [],
   "source": [
    "dict_name.update({\"course\":\"CSE\"})"
   ]
  },
  {
   "cell_type": "code",
   "execution_count": 41,
   "id": "fc394056",
   "metadata": {},
   "outputs": [
    {
     "data": {
      "text/plain": [
       "{'name': 'Sundari K', 'age': 20, 'course': 'CSE'}"
      ]
     },
     "execution_count": 41,
     "metadata": {},
     "output_type": "execute_result"
    }
   ],
   "source": [
    "dict_name"
   ]
  },
  {
   "cell_type": "markdown",
   "id": "503912e2",
   "metadata": {},
   "source": [
    "## Tuples"
   ]
  },
  {
   "cell_type": "code",
   "execution_count": 48,
   "id": "6f8d0320",
   "metadata": {},
   "outputs": [],
   "source": [
    "coordinates=(10,10,20,30,True,\"Sundari\")"
   ]
  },
  {
   "cell_type": "code",
   "execution_count": 49,
   "id": "23dd4d1a",
   "metadata": {},
   "outputs": [
    {
     "data": {
      "text/plain": [
       "(10, 10, 20, 30, True, 'Sundari')"
      ]
     },
     "execution_count": 49,
     "metadata": {},
     "output_type": "execute_result"
    }
   ],
   "source": [
    "coordinates"
   ]
  },
  {
   "cell_type": "code",
   "execution_count": 50,
   "id": "e5e11e81",
   "metadata": {},
   "outputs": [
    {
     "data": {
      "text/plain": [
       "6"
      ]
     },
     "execution_count": 50,
     "metadata": {},
     "output_type": "execute_result"
    }
   ],
   "source": [
    "len(coordinates)"
   ]
  },
  {
   "cell_type": "code",
   "execution_count": 51,
   "id": "6bf78617",
   "metadata": {},
   "outputs": [
    {
     "data": {
      "text/plain": [
       "tuple"
      ]
     },
     "execution_count": 51,
     "metadata": {},
     "output_type": "execute_result"
    }
   ],
   "source": [
    "type(coordinates)"
   ]
  },
  {
   "cell_type": "markdown",
   "id": "2ce5a517",
   "metadata": {},
   "source": [
    "**Access tuples**"
   ]
  },
  {
   "cell_type": "code",
   "execution_count": 52,
   "id": "6fffc68d",
   "metadata": {},
   "outputs": [
    {
     "data": {
      "text/plain": [
       "10"
      ]
     },
     "execution_count": 52,
     "metadata": {},
     "output_type": "execute_result"
    }
   ],
   "source": [
    "coordinates[0]"
   ]
  },
  {
   "cell_type": "code",
   "execution_count": 53,
   "id": "c0eab77c",
   "metadata": {
    "scrolled": true
   },
   "outputs": [
    {
     "data": {
      "text/plain": [
       "'Sundari'"
      ]
     },
     "execution_count": 53,
     "metadata": {},
     "output_type": "execute_result"
    }
   ],
   "source": [
    "coordinates[-1]"
   ]
  },
  {
   "cell_type": "code",
   "execution_count": 54,
   "id": "bead7f58",
   "metadata": {},
   "outputs": [
    {
     "data": {
      "text/plain": [
       "True"
      ]
     },
     "execution_count": 54,
     "metadata": {},
     "output_type": "execute_result"
    }
   ],
   "source": [
    "coordinates[-2]"
   ]
  },
  {
   "cell_type": "code",
   "execution_count": 55,
   "id": "d3c6941f",
   "metadata": {},
   "outputs": [
    {
     "data": {
      "text/plain": [
       "(10, 20)"
      ]
     },
     "execution_count": 55,
     "metadata": {},
     "output_type": "execute_result"
    }
   ],
   "source": [
    "coordinates[1:3]"
   ]
  },
  {
   "cell_type": "markdown",
   "id": "601debd8",
   "metadata": {},
   "source": [
    "# Functions"
   ]
  },
  {
   "cell_type": "code",
   "execution_count": 59,
   "id": "23960e9e",
   "metadata": {},
   "outputs": [],
   "source": [
    "def greet(name):\n",
    "    print(f\"Hello {name}!. Welcome to our laboratory\")\n",
    "def add(a,b):\n",
    "    return a+b"
   ]
  },
  {
   "cell_type": "code",
   "execution_count": 60,
   "id": "4c9f1def",
   "metadata": {},
   "outputs": [
    {
     "name": "stdout",
     "output_type": "stream",
     "text": [
      "Hello Sundari K!. Welcome to our laboratory\n"
     ]
    }
   ],
   "source": [
    "greet(\"Sundari K\")"
   ]
  },
  {
   "cell_type": "code",
   "execution_count": 61,
   "id": "bbdf9976",
   "metadata": {},
   "outputs": [
    {
     "data": {
      "text/plain": [
       "7"
      ]
     },
     "execution_count": 61,
     "metadata": {},
     "output_type": "execute_result"
    }
   ],
   "source": [
    "add(2,5)"
   ]
  },
  {
   "cell_type": "code",
   "execution_count": 63,
   "id": "3f196c18",
   "metadata": {},
   "outputs": [],
   "source": [
    "square=lambda x:x*x"
   ]
  },
  {
   "cell_type": "code",
   "execution_count": 65,
   "id": "b2392241",
   "metadata": {},
   "outputs": [
    {
     "data": {
      "text/plain": [
       "100"
      ]
     },
     "execution_count": 65,
     "metadata": {},
     "output_type": "execute_result"
    }
   ],
   "source": [
    "square(10)"
   ]
  },
  {
   "cell_type": "markdown",
   "id": "08b23be1",
   "metadata": {},
   "source": [
    "## Looping Constructs"
   ]
  },
  {
   "cell_type": "markdown",
   "id": "60064b50",
   "metadata": {},
   "source": [
    "**For Loop**"
   ]
  },
  {
   "cell_type": "code",
   "execution_count": 66,
   "id": "747ab8f1",
   "metadata": {},
   "outputs": [
    {
     "name": "stdout",
     "output_type": "stream",
     "text": [
      "apple\n",
      "orange\n",
      "grapes\n"
     ]
    }
   ],
   "source": [
    "fruits=[\"apple\",\"orange\",\"grapes\"]\n",
    "for i in fruits:\n",
    "    print(i)"
   ]
  },
  {
   "cell_type": "code",
   "execution_count": 67,
   "id": "3aee5d37",
   "metadata": {},
   "outputs": [
    {
     "name": "stdout",
     "output_type": "stream",
     "text": [
      "0\n",
      "1\n",
      "2\n",
      "3\n",
      "4\n"
     ]
    }
   ],
   "source": [
    "for i in range(5):\n",
    "    print(i)"
   ]
  },
  {
   "cell_type": "code",
   "execution_count": 71,
   "id": "fb4ae6dd",
   "metadata": {},
   "outputs": [
    {
     "name": "stdout",
     "output_type": "stream",
     "text": [
      "name\n",
      "age\n"
     ]
    }
   ],
   "source": [
    "student={\"name\":\"Sundari K\",\"age\":20}\n",
    "for i in student:\n",
    "    print(i)"
   ]
  },
  {
   "cell_type": "code",
   "execution_count": 72,
   "id": "724fc2e4",
   "metadata": {},
   "outputs": [
    {
     "name": "stdout",
     "output_type": "stream",
     "text": [
      "name : Sundari K\n",
      "age : 20\n"
     ]
    }
   ],
   "source": [
    "for i,j in student.items():\n",
    "    print(i,\":\",j)"
   ]
  },
  {
   "cell_type": "markdown",
   "id": "5fedbbd2",
   "metadata": {},
   "source": [
    "**While Loop**"
   ]
  },
  {
   "cell_type": "code",
   "execution_count": 74,
   "id": "cab21482",
   "metadata": {},
   "outputs": [
    {
     "name": "stdout",
     "output_type": "stream",
     "text": [
      "number 0\n",
      "number 1\n",
      "number 2\n",
      "number 3\n",
      "number 4\n",
      "number 5\n"
     ]
    }
   ],
   "source": [
    "count=0\n",
    "while count<6:\n",
    "    print(f\"number {count}\")\n",
    "    count+=1"
   ]
  },
  {
   "cell_type": "code",
   "execution_count": null,
   "id": "01447d50",
   "metadata": {},
   "outputs": [],
   "source": []
  }
 ],
 "metadata": {
  "kernelspec": {
   "display_name": "Python 3 (ipykernel)",
   "language": "python",
   "name": "python3"
  },
  "language_info": {
   "codemirror_mode": {
    "name": "ipython",
    "version": 3
   },
   "file_extension": ".py",
   "mimetype": "text/x-python",
   "name": "python",
   "nbconvert_exporter": "python",
   "pygments_lexer": "ipython3",
   "version": "3.7.6"
  }
 },
 "nbformat": 4,
 "nbformat_minor": 5
}
